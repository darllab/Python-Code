{
 "cells": [
  {
   "cell_type": "markdown",
   "id": "c57e9021",
   "metadata": {},
   "source": [
    "### Simple Program for Civil Engineers; Computation of Moisture Content "
   ]
  },
  {
   "cell_type": "markdown",
   "id": "423305f1",
   "metadata": {},
   "source": [
    "#### In this simple program, i create python script where I compute for moisture content of a certain sample using if-else statement.\n",
    "\n",
    "Please check every comment in every script for the context. Will create more of this!"
   ]
  },
  {
   "cell_type": "code",
   "execution_count": 2,
   "id": "dd080816",
   "metadata": {},
   "outputs": [
    {
     "name": "stdout",
     "output_type": "stream",
     "text": [
      "Enter the aggregates name: 3/4\n",
      "Enter the weight of original sample: 12\n",
      "Enter the weight of oven-dry sample: 10\n",
      "Your moisture content is: 20.0\n",
      "3/4, moisture content is High.\n"
     ]
    }
   ],
   "source": [
    "#In this script, we will create a simple program that computes Moisture Content of Aggregates\n",
    "\n",
    "sample = str(input(\"Enter the aggregates name: \")) #When we say aggregates name, it is whether vibrosand, 3/8 or 3/4\n",
    "\n",
    "original_sample = int(input(\"Enter the weight of original sample: \")) #Input the original weight of sample\n",
    "\n",
    "oven_dried = int(input(\"Enter the weight of oven-dry sample: \")) #Input the oven-dried weight of sample\n",
    "\n",
    "moisture_content = (original_sample - oven_dried) / (oven_dried) * (100)\n",
    "\n",
    "print(\"Your moisture content is: \" + str(moisture_content))\n",
    "\n",
    "\n",
    "#This part is just only an example. But this doesn't apply literally in life\n",
    "\n",
    "                 \n",
    "if moisture_content > 0:\n",
    "    if (moisture_content > 10):\n",
    "        print(sample +\", moisture content is High.\")\n",
    "    elif(moisture_content <= 10):\n",
    "        print(sample +\", moisture content is neutral.\")\n",
    "    elif(moisture_content < 10):\n",
    "        print(sample +\", moisture is too much dry.\")\n",
    "    else:\n",
    "        print(sample +\", You need to repeat sampling again\")\n",
    "        \n"
   ]
  },
  {
   "cell_type": "code",
   "execution_count": null,
   "id": "d785fcce",
   "metadata": {},
   "outputs": [],
   "source": []
  }
 ],
 "metadata": {
  "kernelspec": {
   "display_name": "Python 3 (ipykernel)",
   "language": "python",
   "name": "python3"
  },
  "language_info": {
   "codemirror_mode": {
    "name": "ipython",
    "version": 3
   },
   "file_extension": ".py",
   "mimetype": "text/x-python",
   "name": "python",
   "nbconvert_exporter": "python",
   "pygments_lexer": "ipython3",
   "version": "3.11.4"
  }
 },
 "nbformat": 4,
 "nbformat_minor": 5
}
