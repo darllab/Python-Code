{
 "cells": [
  {
   "cell_type": "markdown",
   "id": "6883984d",
   "metadata": {},
   "source": [
    "MY FIRST PROJECT "
   ]
  },
  {
   "cell_type": "markdown",
   "id": "476a3c79",
   "metadata": {},
   "source": [
    "This is my first project that I posted here in Github. I try to bring my workloads into this. In this project, I determine the penentration_reading of cement. Reference: ASTM C187. Refer to the comments below inside the code for more explaination."
   ]
  },
  {
   "cell_type": "code",
   "execution_count": 1,
   "id": "cf5cf4e6",
   "metadata": {
    "scrolled": true
   },
   "outputs": [
    {
     "name": "stdout",
     "output_type": "stream",
     "text": [
      "The penetration reading is High!\n",
      "The penetration reading is Accepted\n",
      "The penetration reading is Not Accepted\n"
     ]
    }
   ],
   "source": [
    "def penetration_reading(consistency):\n",
    "\n",
    "    # Penetration reading in accordance to ASTM C187 9 is the minimum and 11 is the maximum \n",
    "\n",
    "    #If the consistency is greater than 11, should print as The Penetration reading is High\n",
    "    \n",
    "    if consistency  > 11:\n",
    "        consistency = \"The penetration reading is High!\"\n",
    "\n",
    "    #If the consistency is greater than or equal to 9, should print as The Penetration reading is Accepted\n",
    "        \n",
    "    elif consistency >= 8:\n",
    "        consistency = \"The penetration reading is Accepted\"\n",
    "\n",
    "    else:\n",
    "        consistency = \"The penetration reading is Not Accepted\"\n",
    "    return consistency\n",
    "\n",
    "print(penetration_reading(12))# Should print as The Penetration reading is High!\n",
    "print(penetration_reading(8)) # Should print as The Penetration reading is Accepted\n",
    "print(penetration_reading(6)) # Should print as The penetration reading is Not Accepted"
   ]
  },
  {
   "cell_type": "markdown",
   "id": "9ebbb689",
   "metadata": {},
   "source": [
    "Also, this is what Python comes in handy, thru Python you can determine if the result is Passed or Failed. In this code, i use Meet Specifications and Does not meet specifications. "
   ]
  },
  {
   "cell_type": "code",
   "execution_count": 2,
   "id": "5e95d9ff",
   "metadata": {},
   "outputs": [
    {
     "name": "stdout",
     "output_type": "stream",
     "text": [
      "Meet Specifications\n",
      "Does not Specifications\n",
      "Meet Specifications\n",
      "Does not Specifications\n"
     ]
    }
   ],
   "source": [
    "def compressive_strength(mPA):\n",
    "    # If the mPa is greater than 50. The result is Highest Result\n",
    "    if mPA > 50:\n",
    "        mPA = \"Highest Result\"\n",
    "    # If the mPa is greater than or equal to 40. Meet Specifications\n",
    "    elif mPA >= 40:\n",
    "        mPA = \"Meet Specifications\"\n",
    "    # If the mPa is less than 40. Does not meet Specifications\n",
    "    else:\n",
    "        mPA = \"Does not Specifications\"\n",
    "    return mPA\n",
    "\n",
    "print(compressive_strength(41)) # Meet Specifications\n",
    "print(compressive_strength(30)) # Does not meet Specifications\n",
    "print(compressive_strength(40)) # Meet Specifications\n",
    "print(compressive_strength(20)) # Does not meet Specifications"
   ]
  },
  {
   "cell_type": "code",
   "execution_count": 3,
   "id": "748279d8",
   "metadata": {},
   "outputs": [
    {
     "name": "stdout",
     "output_type": "stream",
     "text": [
      "The initial setting is: 114.42857142857143\n"
     ]
    }
   ],
   "source": [
    "time_penetration = 120\n",
    "time_penetration2 = 105\n",
    "reading = 28\n",
    "reading_2 = 21\n",
    "\n",
    "initial_setting = (time_penetration - time_penetration2) / (reading - reading_2) * (reading - 25) + (time_penetration2 + 3)\n",
    "\n",
    "print(\"The initial setting is: \" + str(initial_setting))"
   ]
  },
  {
   "cell_type": "code",
   "execution_count": null,
   "id": "a16c7e1e",
   "metadata": {},
   "outputs": [],
   "source": []
  }
 ],
 "metadata": {
  "kernelspec": {
   "display_name": "Python 3 (ipykernel)",
   "language": "python",
   "name": "python3"
  },
  "language_info": {
   "codemirror_mode": {
    "name": "ipython",
    "version": 3
   },
   "file_extension": ".py",
   "mimetype": "text/x-python",
   "name": "python",
   "nbconvert_exporter": "python",
   "pygments_lexer": "ipython3",
   "version": "3.11.4"
  }
 },
 "nbformat": 4,
 "nbformat_minor": 5
}
