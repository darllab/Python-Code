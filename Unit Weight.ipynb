{
 "cells": [
  {
   "cell_type": "markdown",
   "id": "276fc652",
   "metadata": {},
   "source": [
    "### Unit Weight of Aggregates using Python "
   ]
  },
  {
   "cell_type": "markdown",
   "id": "6ed15004",
   "metadata": {},
   "source": [
    "In this simple python program, we will create a script that calculates Unit Weight of Aggregates C29. First, we will input some values to make a calculations. \n",
    "\n",
    "Any aggregates can calculate using this;"
   ]
  },
  {
   "cell_type": "markdown",
   "id": "b2fe2d5d",
   "metadata": {},
   "source": [
    "Let's input the weight of bucket + sample and weight of bucket itself;"
   ]
  },
  {
   "cell_type": "code",
   "execution_count": null,
   "id": "74514949",
   "metadata": {},
   "outputs": [],
   "source": [
    "sample_bucket = float(input(\"Enter the weight of sample + bucket: \" ))\n",
    "bucket = float(input(\"Enter the weight of bucket: \"))"
   ]
  },
  {
   "cell_type": "markdown",
   "id": "bfe746bc",
   "metadata": {},
   "source": [
    "Let's now calculate the weight of sample by subtracting the two variables;"
   ]
  },
  {
   "cell_type": "code",
   "execution_count": null,
   "id": "7ff5f5a3",
   "metadata": {},
   "outputs": [],
   "source": [
    "weight_sample = sample_bucket - bucket"
   ]
  },
  {
   "cell_type": "markdown",
   "id": "12c80f9f",
   "metadata": {},
   "source": [
    "Also, we need the volume of bucket, as it is needed for the calculations."
   ]
  },
  {
   "cell_type": "code",
   "execution_count": null,
   "id": "964b3092",
   "metadata": {},
   "outputs": [],
   "source": [
    "volume_bucket = float(input(\"Enter the volume of bucket: \"))"
   ]
  },
  {
   "cell_type": "markdown",
   "id": "bc43bd2d",
   "metadata": {},
   "source": [
    "And lastly, now we have all the results that we needed, we can now calculate for the Unit Weight;"
   ]
  },
  {
   "cell_type": "code",
   "execution_count": null,
   "id": "28e4d833",
   "metadata": {},
   "outputs": [],
   "source": [
    "unit_weight = (weight_sample / volume_bucket) * (100)\n",
    "print(f\"The unit weight is: {round(unit_weight, 1)}\")"
   ]
  },
  {
   "cell_type": "markdown",
   "id": "2059cdbd",
   "metadata": {},
   "source": [
    "That's it! We already created a python program that calculates Unit Weight of a Aggregates. "
   ]
  }
 ],
 "metadata": {
  "kernelspec": {
   "display_name": "Python 3 (ipykernel)",
   "language": "python",
   "name": "python3"
  },
  "language_info": {
   "codemirror_mode": {
    "name": "ipython",
    "version": 3
   },
   "file_extension": ".py",
   "mimetype": "text/x-python",
   "name": "python",
   "nbconvert_exporter": "python",
   "pygments_lexer": "ipython3",
   "version": "3.11.4"
  }
 },
 "nbformat": 4,
 "nbformat_minor": 5
}
