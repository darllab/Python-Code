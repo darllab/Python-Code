{
 "cells": [
  {
   "cell_type": "markdown",
   "id": "0527cef9",
   "metadata": {},
   "source": [
    "### Sieve Analysis using Python"
   ]
  },
  {
   "cell_type": "markdown",
   "id": "40e2eedd",
   "metadata": {},
   "source": [
    "Let us create a python program wherein you calculate for Sieve Analysis C136. First, we need to determine all the parameters needed for the calculations. Such as mass of original sample, mass of oven-dried, moisture content."
   ]
  },
  {
   "cell_type": "markdown",
   "id": "eaf84334",
   "metadata": {},
   "source": [
    "You need to input Mass of original sample and mass of oven-dried first and the moisture content will calculate itself;"
   ]
  },
  {
   "cell_type": "code",
   "execution_count": 1,
   "id": "0f5ad5e3",
   "metadata": {},
   "outputs": [
    {
     "name": "stdout",
     "output_type": "stream",
     "text": [
      "Enter your mass of original sample: 1026\n",
      "Enter your mass of oven-dried: 934\n",
      "The moisture content is: 9.85\n"
     ]
    }
   ],
   "source": [
    "original_sample = float(input(\"Enter your mass of original sample: \"))\n",
    "oven_dried = float(input(\"Enter your mass of oven-dried: \"))\n",
    "\n",
    "moisture_content = (original_sample - oven_dried) / (oven_dried) * (100)\n",
    "print(f\"The moisture content is: {round(moisture_content, 2)}\")"
   ]
  },
  {
   "cell_type": "markdown",
   "id": "751723ba",
   "metadata": {},
   "source": [
    "Now that we already determine the moisture content of the sample, let's proceed with the actual calculations;"
   ]
  },
  {
   "cell_type": "code",
   "execution_count": 2,
   "id": "fd3f168b",
   "metadata": {},
   "outputs": [
    {
     "name": "stdout",
     "output_type": "stream",
     "text": [
      "Enter the retained in grams: 40\n",
      "The percent retained is: 4.28\n",
      "The weight passing is: 894.0\n",
      "The percent passing is: 95.72\n"
     ]
    }
   ],
   "source": [
    "retained = int(input(\"Enter the retained in grams: \"))\n",
    "\n",
    "percent_retained = retained / oven_dried * 100\n",
    "print(f\"The percent retained is: {round(percent_retained, 2)}\")\n",
    "\n",
    "weight_passing = oven_dried - retained\n",
    "print(f\"The weight passing is: {round(weight_passing, 2)}\")\n",
    "\n",
    "percent_passing = 100 - percent_retained\n",
    "print(f\"The percent passing is: {round(percent_passing, 2)}\")"
   ]
  },
  {
   "cell_type": "markdown",
   "id": "b416c2d1",
   "metadata": {},
   "source": [
    "Determine the material finer than no.200 sieve"
   ]
  },
  {
   "cell_type": "code",
   "execution_count": null,
   "id": "4c9e5a00",
   "metadata": {},
   "outputs": [],
   "source": [
    "total_retained = int(input(\"Enter the material finer: \"))\n",
    "material_finer = (oven_dried - total_retained) / (oven_dried) * (100)\n",
    "print(f\"The material finer is: {round(material_finer, 2)}\")"
   ]
  },
  {
   "cell_type": "markdown",
   "id": "3a1ff1a7",
   "metadata": {},
   "source": [
    "Last, we will determine whether the sample met the criteria for material finer. We use 5% because every materials has 5% tolerance."
   ]
  },
  {
   "cell_type": "code",
   "execution_count": null,
   "id": "b4c7f259",
   "metadata": {},
   "outputs": [],
   "source": [
    "if material_finer > 5:\n",
    "    print(\"Does not meet specifications\")\n",
    "else:\n",
    "    print(\"Meet specification\")"
   ]
  }
 ],
 "metadata": {
  "kernelspec": {
   "display_name": "Python 3 (ipykernel)",
   "language": "python",
   "name": "python3"
  },
  "language_info": {
   "codemirror_mode": {
    "name": "ipython",
    "version": 3
   },
   "file_extension": ".py",
   "mimetype": "text/x-python",
   "name": "python",
   "nbconvert_exporter": "python",
   "pygments_lexer": "ipython3",
   "version": "3.11.4"
  }
 },
 "nbformat": 4,
 "nbformat_minor": 5
}
